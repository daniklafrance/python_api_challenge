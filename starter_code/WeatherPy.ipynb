{
 "cells": [
  {
   "cell_type": "markdown",
   "metadata": {},
   "source": [
    "# WeatherPy\n",
    "\n",
    "---\n",
    "\n",
    "## Starter Code to Generate Random Geographic Coordinates and a List of Cities"
   ]
  },
  {
   "cell_type": "code",
   "execution_count": 1,
   "metadata": {
    "scrolled": true
   },
   "outputs": [],
   "source": [
    "# Dependencies and Setup\n",
    "import matplotlib.pyplot as plt\n",
    "import pandas as pd\n",
    "import numpy as np\n",
    "import requests\n",
    "import time\n",
    "from scipy.stats import linregress\n",
    "\n",
    "# Impor the OpenWeatherMap API key\n",
    "from api_keys import weather_api_key\n",
    "\n",
    "# Import citipy to determine the cities based on latitude and longitude\n",
    "from citipy import citipy"
   ]
  },
  {
   "cell_type": "markdown",
   "metadata": {},
   "source": [
    "### Generate the Cities List by Using the `citipy` Library"
   ]
  },
  {
   "cell_type": "code",
   "execution_count": 2,
   "metadata": {},
   "outputs": [
    {
     "name": "stdout",
     "output_type": "stream",
     "text": [
      "Number of cities in the list: 593\n"
     ]
    },
    {
     "data": {
      "text/plain": [
       "['adamstown',\n",
       " 'shangri-la',\n",
       " 'neyshabur',\n",
       " 'port-aux-francais',\n",
       " 'hastings',\n",
       " 'taiohae',\n",
       " 'salalah',\n",
       " 'waitangi',\n",
       " 'badger',\n",
       " 'quang ngai',\n",
       " 'isafjordur',\n",
       " 'hawaiian paradise park',\n",
       " 'albany',\n",
       " 'dosso',\n",
       " 'princeville',\n",
       " 'iqaluit',\n",
       " 'arraial do cabo',\n",
       " 'nguigmi',\n",
       " 'egilsstadir',\n",
       " 'nemuro',\n",
       " 'saipan',\n",
       " 'mossel bay',\n",
       " 'grytviken',\n",
       " 'ilulissat',\n",
       " 'chonchi',\n",
       " 'bethel',\n",
       " \"port saint john's\",\n",
       " 'taltal',\n",
       " 'buka',\n",
       " 'lebu',\n",
       " \"nar'yan-mar\",\n",
       " 'atafu village',\n",
       " 'kitui',\n",
       " 'new norfolk',\n",
       " 'lompoc',\n",
       " 'nuuk',\n",
       " 'bredasdorp',\n",
       " 'west island',\n",
       " 'enewetak',\n",
       " 'remire-montjoly',\n",
       " 'punta arenas',\n",
       " 'gamba',\n",
       " 'dalandzadgad',\n",
       " 'uturoa',\n",
       " 'anadyr',\n",
       " \"chul'man\",\n",
       " 'ushuaia',\n",
       " 'kabalo',\n",
       " 'kowon-up',\n",
       " 'khandyga',\n",
       " 'queenstown',\n",
       " 'viligili',\n",
       " 'puerto natales',\n",
       " 'longyearbyen',\n",
       " 'bilibino',\n",
       " 'chui',\n",
       " 'nicoya',\n",
       " 'narvik',\n",
       " 'hithadhoo',\n",
       " 'kyren',\n",
       " 'tsiombe',\n",
       " 'blackmans bay',\n",
       " 'mahabe',\n",
       " 'bardai',\n",
       " 'chegdomyn',\n",
       " 'saskatoon',\n",
       " 'bahia honda',\n",
       " 'bandarbeyla',\n",
       " 'fort mcmurray',\n",
       " 'hermanus',\n",
       " 'juhaynah',\n",
       " 'papatowai',\n",
       " 'mao',\n",
       " 'vytegra',\n",
       " 'edinburgh of the seven seas',\n",
       " 'kalmunai',\n",
       " 'coahuayana de hidalgo',\n",
       " 'saint-philippe',\n",
       " 'murghob',\n",
       " \"st. john's\",\n",
       " 'cockburn town',\n",
       " 'inyonga',\n",
       " 'mirnyy',\n",
       " 'avarua',\n",
       " 'swakopmund',\n",
       " 'nova xavantina',\n",
       " 'verdal',\n",
       " 'tinogasta',\n",
       " 'boguchany',\n",
       " 'shillong',\n",
       " 'ruteng',\n",
       " 'olonkinbyen',\n",
       " 'carnarvon',\n",
       " 'alice springs',\n",
       " 'kembe',\n",
       " 'san patricio',\n",
       " 'klyuchi',\n",
       " 'selfoss',\n",
       " 'yellowknife',\n",
       " 'costa teguise',\n",
       " 'kokuy',\n",
       " 'talnakh',\n",
       " 'utrik',\n",
       " 'invercargill',\n",
       " 'guerrero negro',\n",
       " 'ghadamis',\n",
       " 'chichiriviche',\n",
       " 'sao vicente',\n",
       " 'stanley',\n",
       " 'port elizabeth',\n",
       " 'rogozno',\n",
       " 'hobyo',\n",
       " 'lihue',\n",
       " 'shiqian',\n",
       " 'vilyuysk',\n",
       " 'paradip garh',\n",
       " 'dhidhdhoo',\n",
       " 'seme',\n",
       " 'faya-largeau',\n",
       " 'thompson',\n",
       " 'tiksi',\n",
       " 'georgetown',\n",
       " 'college',\n",
       " 'san juan de uraba',\n",
       " 'afaahiti',\n",
       " 'whitehorse',\n",
       " 'san antonio de pale',\n",
       " 'jolo',\n",
       " 'strezhevoy',\n",
       " 'tavda',\n",
       " 'ribeira grande',\n",
       " 'muvattupuzha',\n",
       " 'tranovaho',\n",
       " 'qaqortoq',\n",
       " 'kzyltu',\n",
       " 'bezhetsk',\n",
       " 'sandpoint',\n",
       " 'puerto ayora',\n",
       " 'uaboe',\n",
       " 'fuvahmulah',\n",
       " 'nova sintra',\n",
       " 'keflavik',\n",
       " 'bikenibeu village',\n",
       " 'rabaul',\n",
       " 'hamilton',\n",
       " 'tanumah',\n",
       " 'jamestown',\n",
       " 'happy valley-goose bay',\n",
       " 'hafar al-batin',\n",
       " 'ceeldheer',\n",
       " 'moree',\n",
       " 'levuka',\n",
       " 'colby',\n",
       " 'salinopolis',\n",
       " 'belyy yar',\n",
       " 'timbuktu',\n",
       " 'maumere',\n",
       " 'susuman',\n",
       " \"la'ie\",\n",
       " 'port mathurin',\n",
       " 'akureyri',\n",
       " 'naze',\n",
       " 'kodiak',\n",
       " 'humberto de campos',\n",
       " 'vorgashor',\n",
       " 'kharkhorin',\n",
       " 'virar',\n",
       " 'tadine',\n",
       " 'camayenne',\n",
       " 'jiangzi',\n",
       " 'nkurenkuru',\n",
       " 'atherton',\n",
       " 'kerikeri',\n",
       " 'petropavlovsk-kamchatsky',\n",
       " 'ust-nera',\n",
       " 'gadzhiyevo',\n",
       " 'margaret river',\n",
       " 'waingapu',\n",
       " 'mahina',\n",
       " 'awjilah',\n",
       " 'khorixas',\n",
       " 'puerto san carlos',\n",
       " 'poronaysk',\n",
       " 'richards bay',\n",
       " 'musoma',\n",
       " 'cody',\n",
       " 'malpica',\n",
       " 'berezovyy',\n",
       " 'devonport',\n",
       " 'el calafate',\n",
       " 'anatuya',\n",
       " 'aladag',\n",
       " 'myeik',\n",
       " 'karratha',\n",
       " 'dudinka',\n",
       " 'tolanaro',\n",
       " 'natal',\n",
       " 'junqueiropolis',\n",
       " 'udachny',\n",
       " 'lincheng',\n",
       " 'daru',\n",
       " 'cidade velha',\n",
       " 'mengcheng chengguanzhen',\n",
       " 'lazaro cardenas',\n",
       " 'kailua-kona',\n",
       " 'sitka',\n",
       " 'hailun',\n",
       " 'taoyuan city',\n",
       " 'sola',\n",
       " 'zhelezinka',\n",
       " 'ugoofaaru',\n",
       " 'zhezqazghan',\n",
       " 'nogliki',\n",
       " 'polyarnyy',\n",
       " 'hami',\n",
       " 'yermentau',\n",
       " 'pudozh',\n",
       " 'mocimboa',\n",
       " 'derzhavinsk',\n",
       " 'bridgetown',\n",
       " 'minot',\n",
       " 'yuzhno-kurilsk',\n",
       " 'afua',\n",
       " 'port alfred',\n",
       " 'edson',\n",
       " 'dunedin',\n",
       " 'okhotsk',\n",
       " 'sao joao da barra',\n",
       " 'corner brook',\n",
       " 'fortuna',\n",
       " 'wailua homesteads',\n",
       " 'banda aceh',\n",
       " 'yangor',\n",
       " 'st. thomas',\n",
       " 'sinanpasa',\n",
       " 'quellon',\n",
       " 'igarka',\n",
       " 'porto velho',\n",
       " 'noumea',\n",
       " 'vylkove',\n",
       " 'phek',\n",
       " 'mount pearl',\n",
       " 'mitsamiouli',\n",
       " 'praia da vitoria',\n",
       " 'saldanha',\n",
       " 'tobi village',\n",
       " 'urengoy',\n",
       " 'tubarjal',\n",
       " 'mangai',\n",
       " 'nishinoomote',\n",
       " 'mranggen',\n",
       " 'edremit',\n",
       " 'la gi',\n",
       " 'sosnovo-ozerskoye',\n",
       " \"kan'onjicho\",\n",
       " 'hohhot',\n",
       " 'bulungu',\n",
       " 'novoshcherbinovskaya',\n",
       " 'novobod',\n",
       " 'nabire',\n",
       " 'dubrowna',\n",
       " 'riachao das neves',\n",
       " 'kasur',\n",
       " 'anjad',\n",
       " 'iquique',\n",
       " 'karatuzskoye',\n",
       " 'cheremshan',\n",
       " 'boshan',\n",
       " 'namibe',\n",
       " 'magong',\n",
       " 'ishinomaki',\n",
       " 'zelenokumsk',\n",
       " 'pibor',\n",
       " 'ribas do rio pardo',\n",
       " 'erenhot',\n",
       " 'minas de marcona',\n",
       " 'ghanzi',\n",
       " 'dadonghai',\n",
       " 'hubli',\n",
       " 'ta`u',\n",
       " 'colonia',\n",
       " 'bowen',\n",
       " 'belmonte',\n",
       " 'mersa matruh',\n",
       " 'mata-utu',\n",
       " 'crane',\n",
       " 'leninskoye',\n",
       " 'aasiaat',\n",
       " 'souillac',\n",
       " 'midvagur',\n",
       " 'lerwick',\n",
       " 'qamdo',\n",
       " 'dongxi',\n",
       " 'hadibu',\n",
       " 'bayan nur',\n",
       " 'el granada',\n",
       " 'newman',\n",
       " 'kemijarvi',\n",
       " 'fisterra',\n",
       " 'lodja',\n",
       " 'hillsboro',\n",
       " 'sinabang',\n",
       " 'cabinda',\n",
       " 'port lincoln',\n",
       " 'ituango',\n",
       " 'paraguacu',\n",
       " 'rzhyshchiv',\n",
       " 'caleta de carquin',\n",
       " 'iskateley',\n",
       " 'mount isa',\n",
       " 'kendari',\n",
       " 'tofol',\n",
       " 'tazovsky',\n",
       " 'puerto real',\n",
       " 'kirensk',\n",
       " 'semera',\n",
       " \"vrangel'\",\n",
       " 'kulia village',\n",
       " 'troitskoye',\n",
       " 'cafayate',\n",
       " 'terdal',\n",
       " 'aykhal',\n",
       " 'hasaki',\n",
       " 'page',\n",
       " 'bodo',\n",
       " 'hawera',\n",
       " 'muli',\n",
       " 'labrador city',\n",
       " \"tal'menka\",\n",
       " 'cidreira',\n",
       " 'kavaratti',\n",
       " 'sinop',\n",
       " 'hammerfest',\n",
       " 'yarmouth',\n",
       " 'alofi',\n",
       " 'fort-shevchenko',\n",
       " 'yanam',\n",
       " 'checker hall',\n",
       " 'krasnozerskoye',\n",
       " 'belabo',\n",
       " 'chita',\n",
       " 'kroya',\n",
       " 'margate',\n",
       " 'tres arroyos',\n",
       " 'tanrake village',\n",
       " 'changping',\n",
       " 'bartica',\n",
       " 'timmins',\n",
       " 'salahonda',\n",
       " 'san martin',\n",
       " 'fale old settlement',\n",
       " \"mil'kovo\",\n",
       " 'kencong',\n",
       " 'cabo san lucas',\n",
       " 'ibeto',\n",
       " 'codrington',\n",
       " 'biel/bienne',\n",
       " 'puerto baquerizo moreno',\n",
       " 'tura',\n",
       " 'indramayu',\n",
       " 'al qubbah',\n",
       " 'puerto madero',\n",
       " 'tallahassee',\n",
       " 'berdigestyakh',\n",
       " 'champerico',\n",
       " 'freeport',\n",
       " 'merizo village',\n",
       " 'flin flon',\n",
       " 'inari',\n",
       " 'kovernino',\n",
       " 'ilica',\n",
       " 'sonsorol village',\n",
       " 'takoradi',\n",
       " 'tupa',\n",
       " 'ligaya',\n",
       " 'mejit',\n",
       " 'grand-bassam',\n",
       " 'anshun',\n",
       " 'goz beida',\n",
       " 'altamira',\n",
       " 'dayr hafir',\n",
       " 'merritt island',\n",
       " 'rattvik',\n",
       " 'saint-joseph',\n",
       " 'ubari',\n",
       " \"ust'-kut\",\n",
       " 'al jubayl',\n",
       " 'san pedro de macoris',\n",
       " 'vorkuta',\n",
       " 'ahau',\n",
       " 'la passe',\n",
       " 'brokopondo',\n",
       " 'zemio',\n",
       " 'al qadarif',\n",
       " 'mahuta',\n",
       " 'island harbour',\n",
       " 'pesqueira',\n",
       " 'yaypan',\n",
       " 'mhangura',\n",
       " 'mahanoro',\n",
       " 'thames',\n",
       " 'gafanha da nazare',\n",
       " 'masterton',\n",
       " 'lithia springs',\n",
       " 'minchianabad',\n",
       " 'piti village',\n",
       " 'pimentel',\n",
       " 'saint-pierre',\n",
       " 'pedernales',\n",
       " 'basco',\n",
       " 'gueltat zemmour',\n",
       " 'barcelos',\n",
       " 'abaete',\n",
       " 'palmer',\n",
       " 'aitape',\n",
       " 'pisco',\n",
       " 'hays',\n",
       " 'gumla',\n",
       " 'mujiayingzi',\n",
       " 'tual',\n",
       " 'hayvoron',\n",
       " 'olutanga',\n",
       " \"arkhangel'sk\",\n",
       " 'constantia',\n",
       " 'shahrak',\n",
       " 'la ciotat',\n",
       " 'kotido',\n",
       " 'scottsburg',\n",
       " 'cromer',\n",
       " 'kenai',\n",
       " 'flying fish cove',\n",
       " 'fort bragg',\n",
       " 'abqaiq',\n",
       " 'tete',\n",
       " \"kapa'a\",\n",
       " 'akaltara',\n",
       " 'albertina',\n",
       " 'roma',\n",
       " 'bubaque',\n",
       " 'nyurba',\n",
       " 'union choco',\n",
       " 'mili',\n",
       " 'chulym',\n",
       " 'alenquer',\n",
       " 'ulladulla',\n",
       " 'sisimiut',\n",
       " 'lagoa',\n",
       " 'norilsk',\n",
       " 'westport',\n",
       " \"nuku'alofa\",\n",
       " 'borogontsy',\n",
       " 'baldev',\n",
       " 'entebbe',\n",
       " 'tungao',\n",
       " 'tuy hoa',\n",
       " 'ironwood',\n",
       " 'eyl',\n",
       " 'kuybyshev',\n",
       " 'manismata',\n",
       " 'shilin',\n",
       " 'mustafakemalpasa',\n",
       " 'parauna',\n",
       " 'ancud',\n",
       " 'smithers',\n",
       " 'tralee',\n",
       " 'ixtapa',\n",
       " 'burang',\n",
       " 'vadso',\n",
       " 'ghatsila',\n",
       " 'kita',\n",
       " 'dilling',\n",
       " 'irymple',\n",
       " 'celestun',\n",
       " 'devinuwara',\n",
       " 'punta alta',\n",
       " 'nova vodolaha',\n",
       " 'marsh harbour',\n",
       " 'saynshand',\n",
       " 'morondava',\n",
       " 'turgen',\n",
       " 'freetown',\n",
       " 'pudasjarvi',\n",
       " 'batang',\n",
       " 'cannonvale',\n",
       " 'illizi',\n",
       " 'port erin',\n",
       " 'kaliua',\n",
       " 'oriximina',\n",
       " 'ribadesella',\n",
       " 'tabou',\n",
       " 'extrema',\n",
       " 'troitsk',\n",
       " 'veinticinco de mayo',\n",
       " 'al bawiti',\n",
       " 'luderitz',\n",
       " 'renk',\n",
       " 'cintalapa de figueroa',\n",
       " 'lae',\n",
       " 'sapele',\n",
       " 'katsuura',\n",
       " 'bolotnoye',\n",
       " 'san sebastian de la gomera',\n",
       " 'vulcan',\n",
       " 'corby',\n",
       " \"cooper's town\",\n",
       " 'xunchang',\n",
       " 'pangody',\n",
       " 'pipar',\n",
       " 'san antonio del estrecho',\n",
       " 'tuyum',\n",
       " 'vila franca do campo',\n",
       " 'broken hill',\n",
       " 'mar del plata',\n",
       " 'solleftea',\n",
       " 'cabedelo',\n",
       " 'alotau',\n",
       " 'portland',\n",
       " 'gazli',\n",
       " 'lata',\n",
       " \"ta'if\",\n",
       " 'thinadhoo',\n",
       " 'mount gambier',\n",
       " \"dul'durga\",\n",
       " 'skutskar',\n",
       " 'elektrenai',\n",
       " 'lammi',\n",
       " 'xai-xai',\n",
       " 'derazhnya',\n",
       " 'yueyang',\n",
       " 'moab',\n",
       " 'kanniyakumari',\n",
       " 'haiku-pauwela',\n",
       " 'fonte boa',\n",
       " 'kazalinsk',\n",
       " 'papao',\n",
       " \"novhorod-sivers'kyy\",\n",
       " 'sao felix do xingu',\n",
       " 'dryden',\n",
       " 'luau',\n",
       " 'hyesan',\n",
       " 'tarawa',\n",
       " 'southborough',\n",
       " 'road town',\n",
       " 'north bend',\n",
       " 'yenotayevka',\n",
       " 'yunyang',\n",
       " 'inhambane',\n",
       " 'fuling',\n",
       " 'teguise',\n",
       " 'caconda',\n",
       " 'barra de santo antonio',\n",
       " 'minab',\n",
       " 'chernyshevskiy',\n",
       " 'vandenberg village',\n",
       " 'novoishimskiy',\n",
       " 'okha',\n",
       " 'kataragama',\n",
       " 'fortaleza',\n",
       " 'hell-ville',\n",
       " 'mareeba',\n",
       " 'zaozersk',\n",
       " 'baikonur',\n",
       " 'bom jardim',\n",
       " 'camarinas',\n",
       " 'suva',\n",
       " 'gazojak',\n",
       " 'paphos',\n",
       " 'moires',\n",
       " 'sault ste. marie',\n",
       " 'port macquarie',\n",
       " 'nema',\n",
       " 'mathba',\n",
       " 'sekong',\n",
       " 'tamanrasset',\n",
       " 'oak bay',\n",
       " 'the pas',\n",
       " 'greenville',\n",
       " 'baukau',\n",
       " 'merke',\n",
       " 'scone',\n",
       " 'axim',\n",
       " 'manicore',\n",
       " 'peniscola',\n",
       " 'el nido',\n",
       " 'dakhla',\n",
       " 'touba',\n",
       " 'pak phanang',\n",
       " 'ambovombe',\n",
       " 'aripuana',\n",
       " 'el bauga',\n",
       " 'chibougamau',\n",
       " 'chebba',\n",
       " 'santa sylvina']"
      ]
     },
     "execution_count": 2,
     "metadata": {},
     "output_type": "execute_result"
    }
   ],
   "source": [
    "# Empty list for holding the latitude and longitude combinations\n",
    "lat_lngs = []\n",
    "\n",
    "# Empty list for holding the cities names\n",
    "cities = []\n",
    "\n",
    "# Range of latitudes and longitudes\n",
    "lat_range = (-90, 90)\n",
    "lng_range = (-180, 180)\n",
    "\n",
    "# Create a set of random lat and lng combinations\n",
    "lats = np.random.uniform(lat_range[0], lat_range[1], size=1500)\n",
    "lngs = np.random.uniform(lng_range[0], lng_range[1], size=1500)\n",
    "lat_lngs = zip(lats, lngs)\n",
    "\n",
    "# Identify nearest city for each lat, lng combination\n",
    "for lat_lng in lat_lngs:\n",
    "    city = citipy.nearest_city(lat_lng[0], lat_lng[1]).city_name\n",
    "    \n",
    "    # If the city is unique, then add it to a our cities list\n",
    "    if city not in cities:\n",
    "        cities.append(city)\n",
    "\n",
    "# Print the city count to confirm sufficient count\n",
    "print(f\"Number of cities in the list: {len(cities)}\")\n",
    "\n",
    "cities"
   ]
  },
  {
   "cell_type": "markdown",
   "metadata": {},
   "source": [
    "---"
   ]
  },
  {
   "cell_type": "markdown",
   "metadata": {},
   "source": [
    "## Requirement 1: Create Plots to Showcase the Relationship Between Weather Variables and Latitude\n",
    "\n",
    "### Use the OpenWeatherMap API to retrieve weather data from the cities list generated in the started code"
   ]
  },
  {
   "cell_type": "markdown",
   "metadata": {},
   "source": []
  },
  {
   "cell_type": "code",
   "execution_count": 3,
   "metadata": {},
   "outputs": [
    {
     "name": "stdout",
     "output_type": "stream",
     "text": [
      "Beginning Data Retrieval     \n",
      "-----------------------------\n",
      "Processing Record 1 of Set 1 | adamstown\n",
      "City not found. Skipping...\n",
      "-----------------------------\n",
      "Data Retrieval Complete      \n",
      "-----------------------------\n"
     ]
    }
   ],
   "source": [
    "# Set the API base URL\n",
    "url = \"http://api.openweathermap.org/data/2.5/weather?\" + \"appid=\" + weather_api_key + \"&q=\"\n",
    "\n",
    "# Define an empty list to fetch the weather data for each city\n",
    "city_data = []\n",
    "\n",
    "# Print to logger\n",
    "print(\"Beginning Data Retrieval     \")\n",
    "print(\"-----------------------------\")\n",
    "\n",
    "# Create counters\n",
    "record_count = 1\n",
    "set_count = 1\n",
    "\n",
    "# Loop through all the cities in our list to fetch weather data\n",
    "for i, city in enumerate(cities):\n",
    "        \n",
    "    # Group cities in sets of 50 for logging purposes\n",
    "    if (i % 50 == 0 and i >= 50):\n",
    "        set_count += 1\n",
    "        record_count = 0\n",
    "\n",
    "    # Create endpoint URL with each city\n",
    "    city_url = url + \n",
    "    \n",
    "    # Log the url, record, and set numbers\n",
    "    print(\"Processing Record %s of Set %s | %s\" % (record_count, set_count, city))\n",
    "\n",
    "    # Add 1 to the record count\n",
    "    record_count += 1\n",
    "\n",
    "    # Run an API request for each of the cities\n",
    "    try:\n",
    "        # Parse the JSON and retrieve data\n",
    "        city_response = requests.get(city_url)\n",
    "        city_weather = city_response.json()\n",
    "\n",
    "        # Parse out latitude, longitude, max temp, humidity, cloudiness, wind speed, country, and date\n",
    "        city_lat = city_weather['coord']['lat']\n",
    "        city_lng = city_weather['coord']['lng']\n",
    "        city_max_temp = city_weather['main']['temp_max']\n",
    "        city_humidity = city_weather['main']['humidity']\n",
    "        city_clouds = city_weather['clouds']['all']\n",
    "        city_wind = city_weather['wind']['speed']\n",
    "        city_country = city_weather['sys']['country']\n",
    "        city_date = city_weather['dt']\n",
    "\n",
    "        # Append the City information into city_data list\n",
    "        city_data.append({\"City\": city, \n",
    "                          \"Lat\": city_lat, \n",
    "                          \"Lng\": city_lng, \n",
    "                          \"Max Temp\": city_max_temp,\n",
    "                          \"Humidity\": city_humidity,\n",
    "                          \"Cloudiness\": city_clouds,\n",
    "                          \"Wind Speed\": city_wind,\n",
    "                          \"Country\": city_country,\n",
    "                          \"Date\": city_date})              \n",
    "\n",
    "    # If an error is experienced, skip the city\n",
    "    except:\n",
    "        print(\"City not found. Skipping...\")\n",
    "        pass\n",
    "\n",
    "    break\n",
    "              \n",
    "# Indicate that Data Loading is complete \n",
    "print(\"-----------------------------\")\n",
    "print(\"Data Retrieval Complete      \")\n",
    "print(\"-----------------------------\")"
   ]
  },
  {
   "cell_type": "code",
   "execution_count": 4,
   "metadata": {},
   "outputs": [
    {
     "data": {
      "text/plain": [
       "Series([], dtype: int64)"
      ]
     },
     "execution_count": 4,
     "metadata": {},
     "output_type": "execute_result"
    }
   ],
   "source": [
    "# Convert the cities weather data into a Pandas DataFrame\n",
    "city_data_df = pd.DataFrame(city_data)\n",
    "\n",
    "# Show Record Count\n",
    "city_data_df.count()"
   ]
  },
  {
   "cell_type": "code",
   "execution_count": 5,
   "metadata": {},
   "outputs": [
    {
     "data": {
      "text/html": [
       "<div>\n",
       "<style scoped>\n",
       "    .dataframe tbody tr th:only-of-type {\n",
       "        vertical-align: middle;\n",
       "    }\n",
       "\n",
       "    .dataframe tbody tr th {\n",
       "        vertical-align: top;\n",
       "    }\n",
       "\n",
       "    .dataframe thead th {\n",
       "        text-align: right;\n",
       "    }\n",
       "</style>\n",
       "<table border=\"1\" class=\"dataframe\">\n",
       "  <thead>\n",
       "    <tr style=\"text-align: right;\">\n",
       "      <th></th>\n",
       "    </tr>\n",
       "  </thead>\n",
       "  <tbody>\n",
       "  </tbody>\n",
       "</table>\n",
       "</div>"
      ],
      "text/plain": [
       "Empty DataFrame\n",
       "Columns: []\n",
       "Index: []"
      ]
     },
     "execution_count": 5,
     "metadata": {},
     "output_type": "execute_result"
    }
   ],
   "source": [
    "# Display sample data\n",
    "city_data_df.head()"
   ]
  },
  {
   "cell_type": "code",
   "execution_count": 6,
   "metadata": {},
   "outputs": [],
   "source": [
    "# Export the City_Data into a csv\n",
    "city_data_df.to_csv(\"output_data/cities.csv\", index_label=\"City_ID\")"
   ]
  },
  {
   "cell_type": "code",
   "execution_count": 7,
   "metadata": {},
   "outputs": [
    {
     "data": {
      "text/html": [
       "<div>\n",
       "<style scoped>\n",
       "    .dataframe tbody tr th:only-of-type {\n",
       "        vertical-align: middle;\n",
       "    }\n",
       "\n",
       "    .dataframe tbody tr th {\n",
       "        vertical-align: top;\n",
       "    }\n",
       "\n",
       "    .dataframe thead th {\n",
       "        text-align: right;\n",
       "    }\n",
       "</style>\n",
       "<table border=\"1\" class=\"dataframe\">\n",
       "  <thead>\n",
       "    <tr style=\"text-align: right;\">\n",
       "      <th></th>\n",
       "    </tr>\n",
       "    <tr>\n",
       "      <th>City_ID</th>\n",
       "    </tr>\n",
       "  </thead>\n",
       "  <tbody>\n",
       "  </tbody>\n",
       "</table>\n",
       "</div>"
      ],
      "text/plain": [
       "Empty DataFrame\n",
       "Columns: []\n",
       "Index: []"
      ]
     },
     "execution_count": 7,
     "metadata": {},
     "output_type": "execute_result"
    }
   ],
   "source": [
    "# Read saved data\n",
    "city_data_df = pd.read_csv(\"output_data/cities.csv\", index_col=\"City_ID\")\n",
    "\n",
    "# Display sample data\n",
    "city_data_df.head()"
   ]
  },
  {
   "cell_type": "markdown",
   "metadata": {},
   "source": [
    "### Create the Scatter Plots Requested\n",
    "\n",
    "#### Latitude Vs. Temperature"
   ]
  },
  {
   "cell_type": "code",
   "execution_count": 8,
   "metadata": {
    "tags": []
   },
   "outputs": [
    {
     "data": {
      "text/plain": [
       "<Figure size 432x288 with 0 Axes>"
      ]
     },
     "metadata": {},
     "output_type": "display_data"
    }
   ],
   "source": [
    "# Build scatter plot for latitude vs. temperature\n",
    "# YOUR CODE HERE\n",
    "\n",
    "# Incorporate the other graph properties\n",
    "# YOUR CODE HERE\n",
    "\n",
    "# Save the figure\n",
    "plt.savefig(\"output_data/Fig1.png\")\n",
    "\n",
    "# Show plot\n",
    "plt.show()"
   ]
  },
  {
   "cell_type": "markdown",
   "metadata": {},
   "source": [
    "#### Latitude Vs. Humidity"
   ]
  },
  {
   "cell_type": "code",
   "execution_count": 9,
   "metadata": {},
   "outputs": [
    {
     "data": {
      "text/plain": [
       "<Figure size 432x288 with 0 Axes>"
      ]
     },
     "metadata": {},
     "output_type": "display_data"
    }
   ],
   "source": [
    "# Build the scatter plots for latitude vs. humidity\n",
    "# YOUR CODE HERE\n",
    "\n",
    "# Incorporate the other graph properties\n",
    "# YOUR CODE HERE\n",
    "\n",
    "# Save the figure\n",
    "plt.savefig(\"output_data/Fig2.png\")\n",
    "\n",
    "# Show plot\n",
    "plt.show()"
   ]
  },
  {
   "cell_type": "markdown",
   "metadata": {},
   "source": [
    "#### Latitude Vs. Cloudiness"
   ]
  },
  {
   "cell_type": "code",
   "execution_count": 10,
   "metadata": {},
   "outputs": [
    {
     "data": {
      "text/plain": [
       "<Figure size 432x288 with 0 Axes>"
      ]
     },
     "metadata": {},
     "output_type": "display_data"
    }
   ],
   "source": [
    "# Build the scatter plots for latitude vs. cloudiness\n",
    "# YOUR CODE HERE\n",
    "\n",
    "# Incorporate the other graph properties\n",
    "# YOUR CODE HERE\n",
    "\n",
    "# Save the figure\n",
    "plt.savefig(\"output_data/Fig3.png\")\n",
    "\n",
    "# Show plot\n",
    "plt.show()"
   ]
  },
  {
   "cell_type": "markdown",
   "metadata": {},
   "source": [
    "#### Latitude vs. Wind Speed Plot"
   ]
  },
  {
   "cell_type": "code",
   "execution_count": 11,
   "metadata": {},
   "outputs": [
    {
     "data": {
      "text/plain": [
       "<Figure size 432x288 with 0 Axes>"
      ]
     },
     "metadata": {},
     "output_type": "display_data"
    }
   ],
   "source": [
    "# Build the scatter plots for latitude vs. wind speed\n",
    "# YOUR CODE HERE\n",
    "\n",
    "# Incorporate the other graph properties\n",
    "# YOUR CODE HERE\n",
    "\n",
    "# Save the figure\n",
    "plt.savefig(\"output_data/Fig4.png\")\n",
    "\n",
    "# Show plot\n",
    "plt.show()"
   ]
  },
  {
   "cell_type": "markdown",
   "metadata": {},
   "source": [
    "---\n",
    "\n",
    "## Requirement 2: Compute Linear Regression for Each Relationship\n"
   ]
  },
  {
   "cell_type": "code",
   "execution_count": 12,
   "metadata": {},
   "outputs": [],
   "source": [
    "# Define a function to create Linear Regression plots\n",
    "# YOUR CODE HERE"
   ]
  },
  {
   "cell_type": "code",
   "execution_count": 13,
   "metadata": {},
   "outputs": [
    {
     "ename": "NameError",
     "evalue": "name 'northern_hemi_df' is not defined",
     "output_type": "error",
     "traceback": [
      "\u001b[1;31m---------------------------------------------------------------------------\u001b[0m",
      "\u001b[1;31mNameError\u001b[0m                                 Traceback (most recent call last)",
      "\u001b[1;32m~\\AppData\\Local\\Temp\\ipykernel_11140\\704778071.py\u001b[0m in \u001b[0;36m<module>\u001b[1;34m\u001b[0m\n\u001b[0;32m      3\u001b[0m \u001b[1;33m\u001b[0m\u001b[0m\n\u001b[0;32m      4\u001b[0m \u001b[1;31m# Display sample data\u001b[0m\u001b[1;33m\u001b[0m\u001b[1;33m\u001b[0m\u001b[1;33m\u001b[0m\u001b[0m\n\u001b[1;32m----> 5\u001b[1;33m \u001b[0mnorthern_hemi_df\u001b[0m\u001b[1;33m.\u001b[0m\u001b[0mhead\u001b[0m\u001b[1;33m(\u001b[0m\u001b[1;33m)\u001b[0m\u001b[1;33m\u001b[0m\u001b[1;33m\u001b[0m\u001b[0m\n\u001b[0m",
      "\u001b[1;31mNameError\u001b[0m: name 'northern_hemi_df' is not defined"
     ]
    }
   ],
   "source": [
    "# Create a DataFrame with the Northern Hemisphere data (Latitude >= 0)\n",
    "# YOUR CODE HERE\n",
    "\n",
    "# Display sample data\n",
    "northern_hemi_df.head()"
   ]
  },
  {
   "cell_type": "code",
   "execution_count": null,
   "metadata": {},
   "outputs": [],
   "source": [
    "# Create a DataFrame with the Southern Hemisphere data (Latitude < 0)\n",
    "# YOUR CODE HERE\n",
    "\n",
    "# Display sample data\n",
    "southern_hemi_df.head()"
   ]
  },
  {
   "cell_type": "markdown",
   "metadata": {},
   "source": [
    "###  Temperature vs. Latitude Linear Regression Plot"
   ]
  },
  {
   "cell_type": "code",
   "execution_count": null,
   "metadata": {},
   "outputs": [],
   "source": [
    "# Linear regression on Northern Hemisphere\n",
    "# YOUR CODE HERE"
   ]
  },
  {
   "cell_type": "code",
   "execution_count": null,
   "metadata": {},
   "outputs": [],
   "source": [
    "# Linear regression on Southern Hemisphere\n",
    "# YOUR CODE HERE"
   ]
  },
  {
   "cell_type": "markdown",
   "metadata": {},
   "source": [
    "**Discussion about the linear relationship:** YOUR RESPONSE HERE"
   ]
  },
  {
   "cell_type": "markdown",
   "metadata": {},
   "source": [
    "### Humidity vs. Latitude Linear Regression Plot"
   ]
  },
  {
   "cell_type": "code",
   "execution_count": null,
   "metadata": {},
   "outputs": [],
   "source": [
    "# Northern Hemisphere\n",
    "# YOUR CODE HERE"
   ]
  },
  {
   "cell_type": "code",
   "execution_count": null,
   "metadata": {},
   "outputs": [],
   "source": [
    "# Southern Hemisphere\n",
    "# YOUR CODE HERE"
   ]
  },
  {
   "cell_type": "markdown",
   "metadata": {},
   "source": [
    "**Discussion about the linear relationship:** YOUR RESPONSE HERE"
   ]
  },
  {
   "cell_type": "markdown",
   "metadata": {},
   "source": [
    "### Cloudiness vs. Latitude Linear Regression Plot"
   ]
  },
  {
   "cell_type": "code",
   "execution_count": null,
   "metadata": {},
   "outputs": [],
   "source": [
    "# Northern Hemisphere\n",
    "# YOUR CODE HERE"
   ]
  },
  {
   "cell_type": "code",
   "execution_count": null,
   "metadata": {},
   "outputs": [],
   "source": [
    "# Southern Hemisphere\n",
    "# YOUR CODE HERE"
   ]
  },
  {
   "cell_type": "markdown",
   "metadata": {},
   "source": [
    "**Discussion about the linear relationship:** YOUR RESPONSE HERE"
   ]
  },
  {
   "cell_type": "markdown",
   "metadata": {},
   "source": [
    "### Wind Speed vs. Latitude Linear Regression Plot"
   ]
  },
  {
   "cell_type": "code",
   "execution_count": null,
   "metadata": {},
   "outputs": [],
   "source": [
    "# Northern Hemisphere\n",
    "# YOUR CODE HERE"
   ]
  },
  {
   "cell_type": "code",
   "execution_count": null,
   "metadata": {},
   "outputs": [],
   "source": [
    "# Southern Hemisphere\n",
    "# YOUR CODE HERE"
   ]
  },
  {
   "cell_type": "markdown",
   "metadata": {},
   "source": [
    "**Discussion about the linear relationship:** YOUR RESPONSE HERE"
   ]
  },
  {
   "cell_type": "code",
   "execution_count": null,
   "metadata": {},
   "outputs": [],
   "source": []
  }
 ],
 "metadata": {
  "anaconda-cloud": {},
  "kernel_info": {
   "name": "python3"
  },
  "kernelspec": {
   "display_name": "Python 3 (ipykernel)",
   "language": "python",
   "name": "python3"
  },
  "language_info": {
   "codemirror_mode": {
    "name": "ipython",
    "version": 3
   },
   "file_extension": ".py",
   "mimetype": "text/x-python",
   "name": "python",
   "nbconvert_exporter": "python",
   "pygments_lexer": "ipython3",
   "version": "3.7.7"
  },
  "latex_envs": {
   "LaTeX_envs_menu_present": true,
   "autoclose": false,
   "autocomplete": true,
   "bibliofile": "biblio.bib",
   "cite_by": "apalike",
   "current_citInitial": 1,
   "eqLabelWithNumbers": true,
   "eqNumInitial": 1,
   "hotkeys": {
    "equation": "Ctrl-E",
    "itemize": "Ctrl-I"
   },
   "labels_anchors": false,
   "latex_user_defs": false,
   "report_style_numbering": false,
   "user_envs_cfg": false
  },
  "nteract": {
   "version": "0.12.3"
  }
 },
 "nbformat": 4,
 "nbformat_minor": 4
}
